{
 "cells": [
  {
   "cell_type": "markdown",
   "metadata": {},
   "source": [
    "# Planning to open a restaurant in Toronto?"
   ]
  },
  {
   "cell_type": "markdown",
   "metadata": {},
   "source": [
    "Before opening a restaurant, every investor needs to study the financial viability of his project from different perspectives to make the project profitable.\n",
    "<br>In other words, the planning stage will make or break your restaurant.\n",
    "<br><br>So I made a little research on the different criteria to start a successful restaurant and obviously, \"Location\" and \"Menu\" are the important things to take into account."
   ]
  },
  {
   "cell_type": "markdown",
   "metadata": {},
   "source": [
    "# Objectives:\n",
    "### -Predicting the best location:\n",
    " Before going out and deciding where to eat, people nowadays open recommendation sites and seek for the restaurants with good rates. That's why our target variable is the restaurant rating (PS: There are other details to reckon with when we rate a restaurant like the decoration, food and service quality... Still location is one of the major factors that makes a restaurant well rated)\n",
    "### - Calculate correlation between different categories of menus and ratings:\n",
    "American or Chinese food? The second objective is to find out which type of meals is filling customer's stomach."
   ]
  },
  {
   "cell_type": "markdown",
   "metadata": {},
   "source": [
    "# Data:\n",
    "### - Foursquare API:\n",
    "We will be using the Foursquare API to get the the geolocation details(nearby venues , the number of neighbouring restaurants...)\n",
    "<img src=\"tripadvisor.PNG\">\n",
    "### - Scraping Data from recommendation websites:\n",
    "To get reliable information about restaurants, we will search for more details from recommendation websites like \"TripAdvisor\" (Also we can use the TripAdvisorAPI)\n",
    "<img src=\"Foursquare.PNG\">\n",
    "\n"
   ]
  },
  {
   "cell_type": "markdown",
   "metadata": {},
   "source": []
  },
  {
   "cell_type": "code",
   "execution_count": null,
   "metadata": {},
   "outputs": [],
   "source": []
  }
 ],
 "metadata": {
  "kernelspec": {
   "display_name": ".new",
   "language": "python",
   "name": ".new"
  },
  "language_info": {
   "codemirror_mode": {
    "name": "ipython",
    "version": 3
   },
   "file_extension": ".py",
   "mimetype": "text/x-python",
   "name": "python",
   "nbconvert_exporter": "python",
   "pygments_lexer": "ipython3",
   "version": "3.6.0"
  }
 },
 "nbformat": 4,
 "nbformat_minor": 2
}
